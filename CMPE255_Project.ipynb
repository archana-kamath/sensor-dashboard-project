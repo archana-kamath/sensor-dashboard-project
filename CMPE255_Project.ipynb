{
 "cells": [
  {
   "cell_type": "markdown",
   "id": "fc1ae763",
   "metadata": {},
   "source": [
    "Install all the required libraries"
   ]
  },
  {
   "cell_type": "code",
   "execution_count": 4,
   "id": "f5e683c6",
   "metadata": {},
   "outputs": [
    {
     "name": "stdout",
     "output_type": "stream",
     "text": [
      "Looking in indexes: https://pypi.org/simple, https://pip.repos.neuron.amazonaws.com\n",
      "Requirement already satisfied: dynamodb-json in /home/ec2-user/anaconda3/envs/python3/lib/python3.8/site-packages (1.3)\n",
      "Requirement already satisfied: simplejson>=3.10.0 in /home/ec2-user/anaconda3/envs/python3/lib/python3.8/site-packages (from dynamodb-json) (3.18.0)\n",
      "Requirement already satisfied: boto3>=1.4.0 in /home/ec2-user/anaconda3/envs/python3/lib/python3.8/site-packages (from dynamodb-json) (1.26.5)\n",
      "Requirement already satisfied: six in /home/ec2-user/anaconda3/envs/python3/lib/python3.8/site-packages (from dynamodb-json) (1.16.0)\n",
      "Requirement already satisfied: s3transfer<0.7.0,>=0.6.0 in /home/ec2-user/anaconda3/envs/python3/lib/python3.8/site-packages (from boto3>=1.4.0->dynamodb-json) (0.6.0)\n",
      "Requirement already satisfied: jmespath<2.0.0,>=0.7.1 in /home/ec2-user/anaconda3/envs/python3/lib/python3.8/site-packages (from boto3>=1.4.0->dynamodb-json) (0.10.0)\n",
      "Requirement already satisfied: botocore<1.30.0,>=1.29.5 in /home/ec2-user/anaconda3/envs/python3/lib/python3.8/site-packages (from boto3>=1.4.0->dynamodb-json) (1.29.19)\n",
      "Requirement already satisfied: python-dateutil<3.0.0,>=2.1 in /home/ec2-user/anaconda3/envs/python3/lib/python3.8/site-packages (from botocore<1.30.0,>=1.29.5->boto3>=1.4.0->dynamodb-json) (2.8.2)\n",
      "Requirement already satisfied: urllib3<1.27,>=1.25.4 in /home/ec2-user/anaconda3/envs/python3/lib/python3.8/site-packages (from botocore<1.30.0,>=1.29.5->boto3>=1.4.0->dynamodb-json) (1.26.8)\n",
      "\u001b[33mWARNING: You are using pip version 22.0.4; however, version 22.3.1 is available.\n",
      "You should consider upgrading via the '/home/ec2-user/anaconda3/envs/python3/bin/python -m pip install --upgrade pip' command.\u001b[0m\u001b[33m\n",
      "\u001b[0mNote: you may need to restart the kernel to use updated packages.\n",
      "Looking in indexes: https://pypi.org/simple, https://pip.repos.neuron.amazonaws.com\n",
      "Requirement already satisfied: xgboost in /home/ec2-user/anaconda3/envs/python3/lib/python3.8/site-packages (1.7.1)\n",
      "Requirement already satisfied: scipy in /home/ec2-user/anaconda3/envs/python3/lib/python3.8/site-packages (from xgboost) (1.5.3)\n",
      "Requirement already satisfied: numpy in /home/ec2-user/anaconda3/envs/python3/lib/python3.8/site-packages (from xgboost) (1.20.3)\n",
      "\u001b[33mWARNING: You are using pip version 22.0.4; however, version 22.3.1 is available.\n",
      "You should consider upgrading via the '/home/ec2-user/anaconda3/envs/python3/bin/python -m pip install --upgrade pip' command.\u001b[0m\u001b[33m\n",
      "\u001b[0mNote: you may need to restart the kernel to use updated packages.\n",
      "Looking in indexes: https://pypi.org/simple, https://pip.repos.neuron.amazonaws.com\n",
      "Requirement already satisfied: NanoPlot in /home/ec2-user/anaconda3/envs/python3/lib/python3.8/site-packages (1.40.2)\n",
      "Requirement already satisfied: biopython in /home/ec2-user/anaconda3/envs/python3/lib/python3.8/site-packages (from NanoPlot) (1.80)\n",
      "Requirement already satisfied: pandas>=1.1.0 in /home/ec2-user/anaconda3/envs/python3/lib/python3.8/site-packages (from NanoPlot) (1.3.4)\n",
      "Requirement already satisfied: numpy>=1.16.5 in /home/ec2-user/anaconda3/envs/python3/lib/python3.8/site-packages (from NanoPlot) (1.20.3)\n",
      "Requirement already satisfied: pyarrow in /home/ec2-user/anaconda3/envs/python3/lib/python3.8/site-packages (from NanoPlot) (7.0.0)\n",
      "Requirement already satisfied: python-dateutil in /home/ec2-user/anaconda3/envs/python3/lib/python3.8/site-packages (from NanoPlot) (2.8.2)\n",
      "Requirement already satisfied: nanomath>=1.0.0 in /home/ec2-user/anaconda3/envs/python3/lib/python3.8/site-packages (from NanoPlot) (1.2.1)\n",
      "Requirement already satisfied: nanoget>=1.18.1 in /home/ec2-user/anaconda3/envs/python3/lib/python3.8/site-packages (from NanoPlot) (1.18.1)\n",
      "Requirement already satisfied: kaleido in /home/ec2-user/anaconda3/envs/python3/lib/python3.8/site-packages (from NanoPlot) (0.2.1)\n",
      "Requirement already satisfied: pysam>0.10.0.0 in /home/ec2-user/anaconda3/envs/python3/lib/python3.8/site-packages (from NanoPlot) (0.20.0)\n",
      "Requirement already satisfied: scipy in /home/ec2-user/anaconda3/envs/python3/lib/python3.8/site-packages (from NanoPlot) (1.5.3)\n",
      "Requirement already satisfied: plotly>=5.4.0 in /home/ec2-user/anaconda3/envs/python3/lib/python3.8/site-packages (from NanoPlot) (5.6.0)\n",
      "Requirement already satisfied: Python-Deprecated in /home/ec2-user/anaconda3/envs/python3/lib/python3.8/site-packages (from nanomath>=1.0.0->NanoPlot) (1.1.0)\n",
      "Requirement already satisfied: pytz>=2017.3 in /home/ec2-user/anaconda3/envs/python3/lib/python3.8/site-packages (from pandas>=1.1.0->NanoPlot) (2021.3)\n",
      "Requirement already satisfied: tenacity>=6.2.0 in /home/ec2-user/anaconda3/envs/python3/lib/python3.8/site-packages (from plotly>=5.4.0->NanoPlot) (8.0.1)\n",
      "Requirement already satisfied: six in /home/ec2-user/anaconda3/envs/python3/lib/python3.8/site-packages (from plotly>=5.4.0->NanoPlot) (1.16.0)\n",
      "\u001b[33mWARNING: You are using pip version 22.0.4; however, version 22.3.1 is available.\n",
      "You should consider upgrading via the '/home/ec2-user/anaconda3/envs/python3/bin/python -m pip install --upgrade pip' command.\u001b[0m\u001b[33m\n",
      "\u001b[0mNote: you may need to restart the kernel to use updated packages.\n"
     ]
    }
   ],
   "source": [
    "%pip install dynamodb-json\n",
    "%pip install xgboost\n",
    "%pip install NanoPlot --upgrade"
   ]
  },
  {
   "cell_type": "code",
   "execution_count": null,
   "id": "dc57cff1",
   "metadata": {},
   "outputs": [],
   "source": [
    "Import all the required libraries"
   ]
  },
  {
   "cell_type": "markdown",
   "id": "13c68881",
   "metadata": {},
   "source": [
    "import boto3\n",
    "import numpy as np\n",
    "import pandas as pd\n",
    "import seaborn as sns\n",
    "from time import time\n",
    "from matplotlib import pyplot as plt\n",
    "from dynamodb_json import json_util as json\n",
    "from boto3.dynamodb.conditions import Key, Attr"
   ]
  },
  {
   "cell_type": "code",
   "execution_count": 6,
   "id": "3eeb2aa2",
   "metadata": {},
   "outputs": [],
   "source": [
    "from sklearn.svm import SVC\n",
    "from sklearn.model_selection import train_test_split\n",
    "from sklearn.preprocessing import StandardScaler\n",
    "from sklearn.datasets import make_moons, make_circles, make_classification\n",
    "from sklearn.neural_network import MLPClassifier\n",
    "from sklearn.neighbors import KNeighborsClassifier\n",
    "from sklearn.gaussian_process import GaussianProcessClassifier\n",
    "from sklearn.gaussian_process.kernels import RBF\n",
    "from sklearn.linear_model import LinearRegression \n",
    "from sklearn.tree import DecisionTreeClassifier\n",
    "from sklearn.ensemble import RandomForestClassifier, AdaBoostClassifier\n",
    "from sklearn.naive_bayes import GaussianNB\n",
    "from sklearn.discriminant_analysis import QuadraticDiscriminantAnalysis\n",
    "import xgboost as xg \n",
    "from sklearn.neural_network import MLPRegressor\n",
    "from sklearn.neighbors import KNeighborsRegressor\n",
    "from sklearn.ensemble import GradientBoostingRegressor\n",
    "from sklearn.gaussian_process import GaussianProcessRegressor\n",
    "from sklearn.gaussian_process.kernels import RBF\n",
    "from sklearn.tree import DecisionTreeRegressor\n",
    "from sklearn.ensemble import AdaBoostRegressor, RandomForestRegressor\n",
    "from sklearn.svm import SVR\n",
    "from sklearn.model_selection import train_test_split\n",
    "from sklearn.linear_model import LogisticRegression\n",
    "from sklearn import metrics\n",
    "import plotly.express as px"
   ]
  },
  {
   "cell_type": "markdown",
   "id": "ae39210f",
   "metadata": {},
   "source": [
    "Connect to DynamoDB  "
   ]
  },
  {
   "cell_type": "code",
   "execution_count": null,
   "id": "818ed94f",
   "metadata": {},
   "outputs": [],
   "source": [
    "dynamodb = boto3.resource('dynamodb')\n",
    "table = dynamodb.Table('sensorData-dev')\n",
    "response = table.scan()"
   ]
  },
  {
   "cell_type": "markdown",
   "id": "2844eae7",
   "metadata": {},
   "source": [
    "Fetch all the values from the table and save it as dataframe"
   ]
  },
  {
   "cell_type": "code",
   "execution_count": 8,
   "id": "d34ce1a6",
   "metadata": {},
   "outputs": [
    {
     "data": {
      "text/html": [
       "<div>\n",
       "<style scoped>\n",
       "    .dataframe tbody tr th:only-of-type {\n",
       "        vertical-align: middle;\n",
       "    }\n",
       "\n",
       "    .dataframe tbody tr th {\n",
       "        vertical-align: top;\n",
       "    }\n",
       "\n",
       "    .dataframe thead th {\n",
       "        text-align: right;\n",
       "    }\n",
       "</style>\n",
       "<table border=\"1\" class=\"dataframe\">\n",
       "  <thead>\n",
       "    <tr style=\"text-align: right;\">\n",
       "      <th></th>\n",
       "      <th>moisture</th>\n",
       "      <th>humidity</th>\n",
       "      <th>node</th>\n",
       "      <th>time</th>\n",
       "      <th>temperature</th>\n",
       "    </tr>\n",
       "  </thead>\n",
       "  <tbody>\n",
       "    <tr>\n",
       "      <th>0</th>\n",
       "      <td>306</td>\n",
       "      <td>68</td>\n",
       "      <td>node1</td>\n",
       "      <td>Tue Nov 29 01:29:54 2022\\n</td>\n",
       "      <td>22.200001</td>\n",
       "    </tr>\n",
       "    <tr>\n",
       "      <th>1</th>\n",
       "      <td>646</td>\n",
       "      <td>71</td>\n",
       "      <td>node1</td>\n",
       "      <td>Mon Nov 28 21:37:19 2022\\n</td>\n",
       "      <td>22.200001</td>\n",
       "    </tr>\n",
       "    <tr>\n",
       "      <th>2</th>\n",
       "      <td>294</td>\n",
       "      <td>65</td>\n",
       "      <td>node1</td>\n",
       "      <td>Tue Nov 29 20:51:24 2022\\n</td>\n",
       "      <td>21.000000</td>\n",
       "    </tr>\n",
       "    <tr>\n",
       "      <th>3</th>\n",
       "      <td>339</td>\n",
       "      <td>64</td>\n",
       "      <td>node1</td>\n",
       "      <td>Tue Nov 29 02:54:30 2022\\n</td>\n",
       "      <td>23.000000</td>\n",
       "    </tr>\n",
       "    <tr>\n",
       "      <th>4</th>\n",
       "      <td>295</td>\n",
       "      <td>69</td>\n",
       "      <td>node1</td>\n",
       "      <td>Tue Nov 29 08:44:57 2022\\n</td>\n",
       "      <td>21.400000</td>\n",
       "    </tr>\n",
       "  </tbody>\n",
       "</table>\n",
       "</div>"
      ],
      "text/plain": [
       "   moisture  humidity   node                        time  temperature\n",
       "0       306        68  node1  Tue Nov 29 01:29:54 2022\\n    22.200001\n",
       "1       646        71  node1  Mon Nov 28 21:37:19 2022\\n    22.200001\n",
       "2       294        65  node1  Tue Nov 29 20:51:24 2022\\n    21.000000\n",
       "3       339        64  node1  Tue Nov 29 02:54:30 2022\\n    23.000000\n",
       "4       295        69  node1  Tue Nov 29 08:44:57 2022\\n    21.400000"
      ]
     },
     "execution_count": 8,
     "metadata": {},
     "output_type": "execute_result"
    }
   ],
   "source": [
    "data = pd.DataFrame(json.loads(response[\"Items\"]))\n",
    "data.head()"
   ]
  },
  {
   "cell_type": "markdown",
   "id": "9915302c",
   "metadata": {},
   "source": [
    "Get all the information to check if all the values are retrieved "
   ]
  },
  {
   "cell_type": "code",
   "execution_count": 9,
   "id": "8d659673",
   "metadata": {},
   "outputs": [
    {
     "name": "stdout",
     "output_type": "stream",
     "text": [
      "<class 'pandas.core.frame.DataFrame'>\n",
      "RangeIndex: 203 entries, 0 to 202\n",
      "Data columns (total 5 columns):\n",
      " #   Column       Non-Null Count  Dtype  \n",
      "---  ------       --------------  -----  \n",
      " 0   moisture     203 non-null    int64  \n",
      " 1   humidity     203 non-null    int64  \n",
      " 2   node         203 non-null    object \n",
      " 3   time         203 non-null    object \n",
      " 4   temperature  203 non-null    float64\n",
      "dtypes: float64(1), int64(2), object(2)\n",
      "memory usage: 8.1+ KB\n"
     ]
    }
   ],
   "source": [
    "data.info()"
   ]
  },
  {
   "cell_type": "code",
   "execution_count": 10,
   "id": "085cdef6",
   "metadata": {},
   "outputs": [
    {
     "data": {
      "text/plain": [
       "moisture       0\n",
       "humidity       0\n",
       "node           0\n",
       "time           0\n",
       "temperature    0\n",
       "dtype: int64"
      ]
     },
     "execution_count": 10,
     "metadata": {},
     "output_type": "execute_result"
    }
   ],
   "source": [
    "data.isna().sum()"
   ]
  },
  {
   "cell_type": "markdown",
   "id": "db52b964",
   "metadata": {},
   "source": [
    "Regression"
   ]
  },
  {
   "cell_type": "code",
   "execution_count": 11,
   "id": "f5f5506d",
   "metadata": {},
   "outputs": [],
   "source": [
    "data_reg = data"
   ]
  },
  {
   "cell_type": "code",
   "execution_count": 12,
   "id": "adfd6f05",
   "metadata": {},
   "outputs": [],
   "source": [
    "data_reg['health'] = 0"
   ]
  },
  {
   "cell_type": "code",
   "execution_count": 13,
   "id": "f5a7860e",
   "metadata": {},
   "outputs": [
    {
     "data": {
      "text/html": [
       "<div>\n",
       "<style scoped>\n",
       "    .dataframe tbody tr th:only-of-type {\n",
       "        vertical-align: middle;\n",
       "    }\n",
       "\n",
       "    .dataframe tbody tr th {\n",
       "        vertical-align: top;\n",
       "    }\n",
       "\n",
       "    .dataframe thead th {\n",
       "        text-align: right;\n",
       "    }\n",
       "</style>\n",
       "<table border=\"1\" class=\"dataframe\">\n",
       "  <thead>\n",
       "    <tr style=\"text-align: right;\">\n",
       "      <th></th>\n",
       "      <th>moisture</th>\n",
       "      <th>humidity</th>\n",
       "      <th>node</th>\n",
       "      <th>time</th>\n",
       "      <th>temperature</th>\n",
       "      <th>health</th>\n",
       "    </tr>\n",
       "  </thead>\n",
       "  <tbody>\n",
       "    <tr>\n",
       "      <th>0</th>\n",
       "      <td>306</td>\n",
       "      <td>68</td>\n",
       "      <td>node1</td>\n",
       "      <td>Tue Nov 29 01:29:54 2022\\n</td>\n",
       "      <td>22.200001</td>\n",
       "      <td>0</td>\n",
       "    </tr>\n",
       "    <tr>\n",
       "      <th>1</th>\n",
       "      <td>646</td>\n",
       "      <td>71</td>\n",
       "      <td>node1</td>\n",
       "      <td>Mon Nov 28 21:37:19 2022\\n</td>\n",
       "      <td>22.200001</td>\n",
       "      <td>0</td>\n",
       "    </tr>\n",
       "    <tr>\n",
       "      <th>2</th>\n",
       "      <td>294</td>\n",
       "      <td>65</td>\n",
       "      <td>node1</td>\n",
       "      <td>Tue Nov 29 20:51:24 2022\\n</td>\n",
       "      <td>21.000000</td>\n",
       "      <td>0</td>\n",
       "    </tr>\n",
       "    <tr>\n",
       "      <th>3</th>\n",
       "      <td>339</td>\n",
       "      <td>64</td>\n",
       "      <td>node1</td>\n",
       "      <td>Tue Nov 29 02:54:30 2022\\n</td>\n",
       "      <td>23.000000</td>\n",
       "      <td>0</td>\n",
       "    </tr>\n",
       "    <tr>\n",
       "      <th>4</th>\n",
       "      <td>295</td>\n",
       "      <td>69</td>\n",
       "      <td>node1</td>\n",
       "      <td>Tue Nov 29 08:44:57 2022\\n</td>\n",
       "      <td>21.400000</td>\n",
       "      <td>0</td>\n",
       "    </tr>\n",
       "  </tbody>\n",
       "</table>\n",
       "</div>"
      ],
      "text/plain": [
       "   moisture  humidity   node                        time  temperature  health\n",
       "0       306        68  node1  Tue Nov 29 01:29:54 2022\\n    22.200001       0\n",
       "1       646        71  node1  Mon Nov 28 21:37:19 2022\\n    22.200001       0\n",
       "2       294        65  node1  Tue Nov 29 20:51:24 2022\\n    21.000000       0\n",
       "3       339        64  node1  Tue Nov 29 02:54:30 2022\\n    23.000000       0\n",
       "4       295        69  node1  Tue Nov 29 08:44:57 2022\\n    21.400000       0"
      ]
     },
     "execution_count": 13,
     "metadata": {},
     "output_type": "execute_result"
    }
   ],
   "source": [
    "data_reg.head()"
   ]
  },
  {
   "cell_type": "code",
   "execution_count": 14,
   "id": "602c073b",
   "metadata": {},
   "outputs": [
    {
     "data": {
      "text/plain": [
       "<AxesSubplot:>"
      ]
     },
     "execution_count": 14,
     "metadata": {},
     "output_type": "execute_result"
    },
    {
     "data": {
      "image/png": "[encoded data removed]",
      "text/plain": [
       "<Figure size 432x288 with 2 Axes>"
      ]
     },
     "metadata": {
      "needs_background": "light"
     },
     "output_type": "display_data"
    }
   ],
   "source": [
    "corr=data_reg.corr()\n",
    "sns.heatmap(corr,vmin=-1, vmax=1, center=0,\n",
    "    cmap=sns.diverging_palette(20, 220, n=200),\n",
    "    square=True, annot = True\n",
    ")"
   ]
  },
  {
   "cell_type": "code",
   "execution_count": 15,
   "id": "75cb3c40",
   "metadata": {},
   "outputs": [
    {
     "data": {
      "image/png": "[encoded data removed]",
      "text/plain": [
       "<Figure size 432x288 with 1 Axes>"
      ]
     },
     "metadata": {
      "needs_background": "light"
     },
     "output_type": "display_data"
    }
   ],
   "source": [
    "sns.boxplot(x=\"temperature\",data=data_reg,color =\"lime\");"
   ]
  },
  {
   "cell_type": "code",
   "execution_count": 17,
   "id": "820dfe28",
   "metadata": {},
   "outputs": [
    {
     "data": {
      "text/plain": [
       "<AxesSubplot:xlabel='temperature', ylabel='Count'>"
      ]
     },
     "execution_count": 17,
     "metadata": {},
     "output_type": "execute_result"
    },
    {
     "data": {
      "image/png": "[encoded data removed]",
      "text/plain": [
       "<Figure size 432x288 with 1 Axes>"
      ]
     },
     "metadata": {
      "needs_background": "light"
     },
     "output_type": "display_data"
    }
   ],
   "source": [
    "sns.histplot(data_reg.temperature, kde=True,color = \"green\")"
   ]
  },
  {
   "cell_type": "code",
   "execution_count": 18,
   "id": "ba4a8bf5",
   "metadata": {},
   "outputs": [
    {
     "data": {
      "image/png": "[encoded data removed]",
      "text/plain": [
       "<Figure size 432x288 with 1 Axes>"
      ]
     },
     "metadata": {
      "needs_background": "light"
     },
     "output_type": "display_data"
    }
   ],
   "source": [
    "sns.histplot(data_reg.humidity, kde=True,color = \"darkblue\",alpha=.4, stat=\"density\", kde_kws=dict(cut=3));"
   ]
  },
  {
   "cell_type": "code",
   "execution_count": 19,
   "id": "92f74a40",
   "metadata": {},
   "outputs": [
    {
     "data": {
      "image/png": "[encoded data removed]",
      "text/plain": [
       "<Figure size 432x288 with 1 Axes>"
      ]
     },
     "metadata": {
      "needs_background": "light"
     },
     "output_type": "display_data"
    }
   ],
   "source": [
    "sns.histplot(data_reg.moisture, kde=True,color = \"blue\");"
   ]
  },
  {
   "cell_type": "code",
   "execution_count": 20,
   "id": "569668ff",
   "metadata": {},
   "outputs": [
    {
     "name": "stdout",
     "output_type": "stream",
     "text": [
      "n =  203\n",
      "d =  3\n"
     ]
    }
   ],
   "source": [
    "n,d = data_reg[['temperature', 'moisture', 'humidity']].shape\n",
    "print(\"n = \", n)\n",
    "print(\"d = \", d)"
   ]
  },
  {
   "cell_type": "markdown",
   "id": "9eb997c5",
   "metadata": {},
   "source": [
    "Health of a plant is determined using below calculation."
   ]
  },
  {
   "cell_type": "code",
   "execution_count": 22,
   "id": "adf67df0",
   "metadata": {},
   "outputs": [
    {
     "data": {
      "text/html": [
       "<div>\n",
       "<style scoped>\n",
       "    .dataframe tbody tr th:only-of-type {\n",
       "        vertical-align: middle;\n",
       "    }\n",
       "\n",
       "    .dataframe tbody tr th {\n",
       "        vertical-align: top;\n",
       "    }\n",
       "\n",
       "    .dataframe thead th {\n",
       "        text-align: right;\n",
       "    }\n",
       "</style>\n",
       "<table border=\"1\" class=\"dataframe\">\n",
       "  <thead>\n",
       "    <tr style=\"text-align: right;\">\n",
       "      <th></th>\n",
       "      <th>moisture</th>\n",
       "      <th>humidity</th>\n",
       "      <th>node</th>\n",
       "      <th>time</th>\n",
       "      <th>temperature</th>\n",
       "      <th>health</th>\n",
       "    </tr>\n",
       "  </thead>\n",
       "  <tbody>\n",
       "    <tr>\n",
       "      <th>0</th>\n",
       "      <td>306</td>\n",
       "      <td>68</td>\n",
       "      <td>node1</td>\n",
       "      <td>Tue Nov 29 01:29:54 2022\\n</td>\n",
       "      <td>22.200001</td>\n",
       "      <td>0</td>\n",
       "    </tr>\n",
       "    <tr>\n",
       "      <th>1</th>\n",
       "      <td>646</td>\n",
       "      <td>71</td>\n",
       "      <td>node1</td>\n",
       "      <td>Mon Nov 28 21:37:19 2022\\n</td>\n",
       "      <td>22.200001</td>\n",
       "      <td>0</td>\n",
       "    </tr>\n",
       "    <tr>\n",
       "      <th>2</th>\n",
       "      <td>294</td>\n",
       "      <td>65</td>\n",
       "      <td>node1</td>\n",
       "      <td>Tue Nov 29 20:51:24 2022\\n</td>\n",
       "      <td>21.000000</td>\n",
       "      <td>0</td>\n",
       "    </tr>\n",
       "    <tr>\n",
       "      <th>3</th>\n",
       "      <td>339</td>\n",
       "      <td>64</td>\n",
       "      <td>node1</td>\n",
       "      <td>Tue Nov 29 02:54:30 2022\\n</td>\n",
       "      <td>23.000000</td>\n",
       "      <td>0</td>\n",
       "    </tr>\n",
       "    <tr>\n",
       "      <th>4</th>\n",
       "      <td>295</td>\n",
       "      <td>69</td>\n",
       "      <td>node1</td>\n",
       "      <td>Tue Nov 29 08:44:57 2022\\n</td>\n",
       "      <td>21.400000</td>\n",
       "      <td>0</td>\n",
       "    </tr>\n",
       "    <tr>\n",
       "      <th>...</th>\n",
       "      <td>...</td>\n",
       "      <td>...</td>\n",
       "      <td>...</td>\n",
       "      <td>...</td>\n",
       "      <td>...</td>\n",
       "      <td>...</td>\n",
       "    </tr>\n",
       "    <tr>\n",
       "      <th>198</th>\n",
       "      <td>344</td>\n",
       "      <td>70</td>\n",
       "      <td>node1</td>\n",
       "      <td>Tue Nov 29 05:54:44 2022\\n</td>\n",
       "      <td>22.700001</td>\n",
       "      <td>0</td>\n",
       "    </tr>\n",
       "    <tr>\n",
       "      <th>199</th>\n",
       "      <td>343</td>\n",
       "      <td>66</td>\n",
       "      <td>node1</td>\n",
       "      <td>Tue Nov 29 04:14:35 2022\\n</td>\n",
       "      <td>23.400000</td>\n",
       "      <td>1</td>\n",
       "    </tr>\n",
       "    <tr>\n",
       "      <th>200</th>\n",
       "      <td>289</td>\n",
       "      <td>67</td>\n",
       "      <td>node1</td>\n",
       "      <td>Tue Nov 29 19:51:20 2022\\n</td>\n",
       "      <td>21.799999</td>\n",
       "      <td>0</td>\n",
       "    </tr>\n",
       "    <tr>\n",
       "      <th>201</th>\n",
       "      <td>294</td>\n",
       "      <td>66</td>\n",
       "      <td>node1</td>\n",
       "      <td>Tue Nov 29 20:56:24 2022\\n</td>\n",
       "      <td>21.000000</td>\n",
       "      <td>0</td>\n",
       "    </tr>\n",
       "    <tr>\n",
       "      <th>202</th>\n",
       "      <td>290</td>\n",
       "      <td>69</td>\n",
       "      <td>node1</td>\n",
       "      <td>Tue Nov 29 09:15:02 2022\\n</td>\n",
       "      <td>21.000000</td>\n",
       "      <td>0</td>\n",
       "    </tr>\n",
       "  </tbody>\n",
       "</table>\n",
       "<p>203 rows × 6 columns</p>\n",
       "</div>"
      ],
      "text/plain": [
       "     moisture  humidity   node                        time  temperature  \\\n",
       "0         306        68  node1  Tue Nov 29 01:29:54 2022\\n    22.200001   \n",
       "1         646        71  node1  Mon Nov 28 21:37:19 2022\\n    22.200001   \n",
       "2         294        65  node1  Tue Nov 29 20:51:24 2022\\n    21.000000   \n",
       "3         339        64  node1  Tue Nov 29 02:54:30 2022\\n    23.000000   \n",
       "4         295        69  node1  Tue Nov 29 08:44:57 2022\\n    21.400000   \n",
       "..        ...       ...    ...                         ...          ...   \n",
       "198       344        70  node1  Tue Nov 29 05:54:44 2022\\n    22.700001   \n",
       "199       343        66  node1  Tue Nov 29 04:14:35 2022\\n    23.400000   \n",
       "200       289        67  node1  Tue Nov 29 19:51:20 2022\\n    21.799999   \n",
       "201       294        66  node1  Tue Nov 29 20:56:24 2022\\n    21.000000   \n",
       "202       290        69  node1  Tue Nov 29 09:15:02 2022\\n    21.000000   \n",
       "\n",
       "     health  \n",
       "0         0  \n",
       "1         0  \n",
       "2         0  \n",
       "3         0  \n",
       "4         0  \n",
       "..      ...  \n",
       "198       0  \n",
       "199       1  \n",
       "200       0  \n",
       "201       0  \n",
       "202       0  \n",
       "\n",
       "[203 rows x 6 columns]"
      ]
     },
     "execution_count": 22,
     "metadata": {},
     "output_type": "execute_result"
    }
   ],
   "source": [
    "data_reg[\"health\"] = np.where((data_reg[\"temperature\"]>23.0) & (data_reg[\"moisture\"]>300.0) & (data_reg[\"humidity\"]>59), 1, 0).astype(int)\n",
    "data_reg"
   ]
  },
  {
   "cell_type": "code",
   "execution_count": 23,
   "id": "4b1c9412",
   "metadata": {},
   "outputs": [],
   "source": [
    "X = data_reg[['temperature','moisture','humidity']]\n",
    "y = data_reg[['health']]"
   ]
  },
  {
   "cell_type": "code",
   "execution_count": 24,
   "id": "cfc64336",
   "metadata": {},
   "outputs": [],
   "source": [
    "X_train, X_test, y_train, y_test = train_test_split(X, y, test_size=0.25,random_state=0)"
   ]
  },
  {
   "cell_type": "code",
   "execution_count": 25,
   "id": "d923c90a",
   "metadata": {},
   "outputs": [
    {
     "name": "stdout",
     "output_type": "stream",
     "text": [
      "(152, 3)\n",
      "(152, 1)\n",
      "(51, 3)\n",
      "(51, 1)\n"
     ]
    }
   ],
   "source": [
    "print(X_train.shape)\n",
    "print(y_train.shape)\n",
    "print(X_test.shape)\n",
    "print(y_test.shape)"
   ]
  },
  {
   "cell_type": "code",
   "execution_count": 27,
   "id": "66647e89",
   "metadata": {},
   "outputs": [],
   "source": [
    "names = [\"MLP\", \"Nearest Neighbors\", \"GradientBoostingRegressor\",\"Decision Tree\", \"AdaBoost\",\"Random Forest\", \"Linear SVR\"]\n",
    "\n",
    "regressors = [\n",
    "    MLPRegressor(alpha=1, max_iter=1500),\n",
    "    KNeighborsRegressor(2),\n",
    "    GradientBoostingRegressor(n_estimators = 1000, learning_rate = 0.01, max_depth = 5, random_state= 42),\n",
    "    DecisionTreeRegressor(criterion='mse', splitter='best', max_depth=None, min_samples_split=2, min_samples_leaf=1, min_weight_fraction_leaf=0.0, max_features=None, random_state=None, max_leaf_nodes=None, min_impurity_decrease=0.0, ccp_alpha=0.0),\n",
    "    AdaBoostRegressor(base_estimator=None, n_estimators=50, learning_rate=1.0, loss='linear', random_state=None),\n",
    "    RandomForestRegressor(max_depth=5, n_estimators=10, max_features=1),\n",
    "    SVR(kernel='rbf', degree=3, gamma='scale', coef0=0.0, tol=0.001, C=1.0, epsilon=0.1, shrinking=True, cache_size=200, verbose=False, max_iter=- 1),\n",
    "    ]\n",
    "\n",
    "reg_output = pd.DataFrame(columns=['regressor','mae', 'mse', 'Rsquared', 'accuracy', 'Training time'])"
   ]
  },
  {
   "cell_type": "code",
   "execution_count": 28,
   "id": "3304c9db",
   "metadata": {},
   "outputs": [
    {
     "name": "stderr",
     "output_type": "stream",
     "text": [
      "/home/ec2-user/anaconda3/envs/python3/lib/python3.8/site-packages/sklearn/neural_network/_multilayer_perceptron.py:1599: DataConversionWarning: A column-vector y was passed when a 1d array was expected. Please change the shape of y to (n_samples, ), for example using ravel().\n",
      "  y = column_or_1d(y, warn=True)\n",
      "/home/ec2-user/anaconda3/envs/python3/lib/python3.8/site-packages/sklearn/ensemble/_gb.py:494: DataConversionWarning: A column-vector y was passed when a 1d array was expected. Please change the shape of y to (n_samples, ), for example using ravel().\n",
      "  y = column_or_1d(y, warn=True)\n"
     ]
    },
    {
     "name": "stdout",
     "output_type": "stream",
     "text": [
      "Regression = MLP, Score (accuracy) = -24908.72, Training time = 0.02 seconds,\n",
      "Regression = Nearest Neighbors, Score (accuracy) = 62.22, Training time = 0.03 seconds,\n",
      "Regression = GradientBoostingRegressor, Score (accuracy) = 86.72, Training time = 0.01 seconds,\n",
      "Regression = Decision Tree, Score (accuracy) = 100.00, Training time = 0.02 seconds,\n",
      "Regression = AdaBoost, Score (accuracy) = 43.33, Training time = 0.01 seconds,\n",
      "Regression = Random Forest, Score (accuracy) = 68.08, Training time = 0.01 seconds,\n",
      "Regression = Linear SVR, Score (accuracy) = -0.06, Training time = 0.01 seconds,\n",
      "--------------------------------------------------------------------------------\n",
      "Best --> Regression = Decision Tree, Score (accuracy) = 100.00 Training time = 0.01 seconds,\n"
     ]
    },
    {
     "name": "stderr",
     "output_type": "stream",
     "text": [
      "/home/ec2-user/anaconda3/envs/python3/lib/python3.8/site-packages/sklearn/tree/_classes.py:359: FutureWarning: Criterion 'mse' was deprecated in v1.0 and will be removed in version 1.2. Use `criterion='squared_error'` which is equivalent.\n",
      "  warnings.warn(\n",
      "/home/ec2-user/anaconda3/envs/python3/lib/python3.8/site-packages/sklearn/utils/validation.py:985: DataConversionWarning: A column-vector y was passed when a 1d array was expected. Please change the shape of y to (n_samples, ), for example using ravel().\n",
      "  y = column_or_1d(y, warn=True)\n",
      "/tmp/ipykernel_13265/3339353620.py:5: DataConversionWarning: A column-vector y was passed when a 1d array was expected. Please change the shape of y to (n_samples,), for example using ravel().\n",
      "  clf.fit(X_train, y_train)\n",
      "/home/ec2-user/anaconda3/envs/python3/lib/python3.8/site-packages/sklearn/utils/validation.py:985: DataConversionWarning: A column-vector y was passed when a 1d array was expected. Please change the shape of y to (n_samples, ), for example using ravel().\n",
      "  y = column_or_1d(y, warn=True)\n"
     ]
    }
   ],
   "source": [
    "max_score = 0.0\n",
    "max_class = ''\n",
    "\n",
    "for name, clf in zip(names, regressors):\n",
    "    clf.fit(X_train, y_train)\n",
    "    start_time = time()\n",
    "    time_finish = time() - start_time\n",
    "    score = 100.0 * clf.score(X_test, y_test)\n",
    "    y_preds_reg = clf.predict(X_test)\n",
    "\n",
    "    \n",
    "    mae = np.round(metrics.mean_absolute_error(y_test, y_preds_reg), 2)\n",
    "    mse = np.round(metrics.mean_squared_error(y_test, y_preds_reg), 2)\n",
    "    rsquared = np.round(metrics.r2_score(y_test, y_preds_reg), 2)\n",
    "    reg_output = reg_output.append({'regressor': name, 'mae':mae, 'mse':mse,'Rsquared':rsquared, 'accuracy':score, 'Training time':time_finish}, ignore_index=True)\n",
    "    print('Regression = %s, Score (accuracy) = %.2f,' %(name, score), 'Training time = %.2f seconds,'%(time() - start_time))\n",
    "    if score > max_score:\n",
    "        clf_best = clf\n",
    "        max_score = score\n",
    "        max_class = name\n",
    "print(80*'-' )\n",
    "print('Best --> Regression = %s, Score (accuracy) = %.2f' %(max_class, max_score),'Training time = %.2f seconds,'%(time() - start_time))"
   ]
  },
  {
   "cell_type": "markdown",
   "id": "fac37a1a",
   "metadata": {},
   "source": [
    "Mean Absolute Error (MAE) and Mean squared error (MSE) is also calculated along with accuracy and time taken to train."
   ]
  },
  {
   "cell_type": "code",
   "execution_count": 29,
   "id": "a47f8839",
   "metadata": {},
   "outputs": [
    {
     "data": {
      "text/html": [
       "<div>\n",
       "<style scoped>\n",
       "    .dataframe tbody tr th:only-of-type {\n",
       "        vertical-align: middle;\n",
       "    }\n",
       "\n",
       "    .dataframe tbody tr th {\n",
       "        vertical-align: top;\n",
       "    }\n",
       "\n",
       "    .dataframe thead th {\n",
       "        text-align: right;\n",
       "    }\n",
       "</style>\n",
       "<table border=\"1\" class=\"dataframe\">\n",
       "  <thead>\n",
       "    <tr style=\"text-align: right;\">\n",
       "      <th></th>\n",
       "      <th>regressor</th>\n",
       "      <th>mae</th>\n",
       "      <th>mse</th>\n",
       "      <th>Rsquared</th>\n",
       "      <th>accuracy</th>\n",
       "      <th>Training time</th>\n",
       "    </tr>\n",
       "  </thead>\n",
       "  <tbody>\n",
       "    <tr>\n",
       "      <th>0</th>\n",
       "      <td>MLP</td>\n",
       "      <td>5.02</td>\n",
       "      <td>25.96</td>\n",
       "      <td>-249.09</td>\n",
       "      <td>-24908.716838</td>\n",
       "      <td>1.907349e-06</td>\n",
       "    </tr>\n",
       "    <tr>\n",
       "      <th>1</th>\n",
       "      <td>Nearest Neighbors</td>\n",
       "      <td>0.06</td>\n",
       "      <td>0.04</td>\n",
       "      <td>0.62</td>\n",
       "      <td>62.222222</td>\n",
       "      <td>1.430511e-06</td>\n",
       "    </tr>\n",
       "    <tr>\n",
       "      <th>2</th>\n",
       "      <td>GradientBoostingRegressor</td>\n",
       "      <td>0.03</td>\n",
       "      <td>0.01</td>\n",
       "      <td>0.87</td>\n",
       "      <td>86.717802</td>\n",
       "      <td>1.192093e-06</td>\n",
       "    </tr>\n",
       "    <tr>\n",
       "      <th>3</th>\n",
       "      <td>Decision Tree</td>\n",
       "      <td>0.00</td>\n",
       "      <td>0.00</td>\n",
       "      <td>1.00</td>\n",
       "      <td>100.000000</td>\n",
       "      <td>7.152557e-07</td>\n",
       "    </tr>\n",
       "    <tr>\n",
       "      <th>4</th>\n",
       "      <td>AdaBoost</td>\n",
       "      <td>0.06</td>\n",
       "      <td>0.06</td>\n",
       "      <td>0.43</td>\n",
       "      <td>43.333333</td>\n",
       "      <td>9.536743e-07</td>\n",
       "    </tr>\n",
       "    <tr>\n",
       "      <th>5</th>\n",
       "      <td>Random Forest</td>\n",
       "      <td>0.06</td>\n",
       "      <td>0.03</td>\n",
       "      <td>0.68</td>\n",
       "      <td>68.077778</td>\n",
       "      <td>9.536743e-07</td>\n",
       "    </tr>\n",
       "    <tr>\n",
       "      <th>6</th>\n",
       "      <td>Linear SVR</td>\n",
       "      <td>0.19</td>\n",
       "      <td>0.10</td>\n",
       "      <td>-0.00</td>\n",
       "      <td>-0.063823</td>\n",
       "      <td>7.152557e-07</td>\n",
       "    </tr>\n",
       "  </tbody>\n",
       "</table>\n",
       "</div>"
      ],
      "text/plain": [
       "                   regressor   mae    mse  Rsquared      accuracy  \\\n",
       "0                        MLP  5.02  25.96   -249.09 -24908.716838   \n",
       "1          Nearest Neighbors  0.06   0.04      0.62     62.222222   \n",
       "2  GradientBoostingRegressor  0.03   0.01      0.87     86.717802   \n",
       "3              Decision Tree  0.00   0.00      1.00    100.000000   \n",
       "4                   AdaBoost  0.06   0.06      0.43     43.333333   \n",
       "5              Random Forest  0.06   0.03      0.68     68.077778   \n",
       "6                 Linear SVR  0.19   0.10     -0.00     -0.063823   \n",
       "\n",
       "   Training time  \n",
       "0   1.907349e-06  \n",
       "1   1.430511e-06  \n",
       "2   1.192093e-06  \n",
       "3   7.152557e-07  \n",
       "4   9.536743e-07  \n",
       "5   9.536743e-07  \n",
       "6   7.152557e-07  "
      ]
     },
     "metadata": {},
     "output_type": "display_data"
    }
   ],
   "source": [
    "display(reg_output)"
   ]
  },
  {
   "cell_type": "markdown",
   "id": "8b4aff9f",
   "metadata": {},
   "source": [
    "Classification"
   ]
  },
  {
   "cell_type": "code",
   "execution_count": 30,
   "id": "a3dd93f4",
   "metadata": {},
   "outputs": [],
   "source": [
    "data_classify = data"
   ]
  },
  {
   "cell_type": "code",
   "execution_count": 31,
   "id": "a8edf456",
   "metadata": {},
   "outputs": [
    {
     "data": {
      "text/html": [
       "<div>\n",
       "<style scoped>\n",
       "    .dataframe tbody tr th:only-of-type {\n",
       "        vertical-align: middle;\n",
       "    }\n",
       "\n",
       "    .dataframe tbody tr th {\n",
       "        vertical-align: top;\n",
       "    }\n",
       "\n",
       "    .dataframe thead th {\n",
       "        text-align: right;\n",
       "    }\n",
       "</style>\n",
       "<table border=\"1\" class=\"dataframe\">\n",
       "  <thead>\n",
       "    <tr style=\"text-align: right;\">\n",
       "      <th></th>\n",
       "      <th>moisture</th>\n",
       "      <th>humidity</th>\n",
       "      <th>node</th>\n",
       "      <th>time</th>\n",
       "      <th>temperature</th>\n",
       "      <th>health</th>\n",
       "    </tr>\n",
       "  </thead>\n",
       "  <tbody>\n",
       "    <tr>\n",
       "      <th>0</th>\n",
       "      <td>306</td>\n",
       "      <td>68</td>\n",
       "      <td>node1</td>\n",
       "      <td>Tue Nov 29 01:29:54 2022\\n</td>\n",
       "      <td>22.200001</td>\n",
       "      <td>0</td>\n",
       "    </tr>\n",
       "    <tr>\n",
       "      <th>1</th>\n",
       "      <td>646</td>\n",
       "      <td>71</td>\n",
       "      <td>node1</td>\n",
       "      <td>Mon Nov 28 21:37:19 2022\\n</td>\n",
       "      <td>22.200001</td>\n",
       "      <td>0</td>\n",
       "    </tr>\n",
       "    <tr>\n",
       "      <th>2</th>\n",
       "      <td>294</td>\n",
       "      <td>65</td>\n",
       "      <td>node1</td>\n",
       "      <td>Tue Nov 29 20:51:24 2022\\n</td>\n",
       "      <td>21.000000</td>\n",
       "      <td>0</td>\n",
       "    </tr>\n",
       "    <tr>\n",
       "      <th>3</th>\n",
       "      <td>339</td>\n",
       "      <td>64</td>\n",
       "      <td>node1</td>\n",
       "      <td>Tue Nov 29 02:54:30 2022\\n</td>\n",
       "      <td>23.000000</td>\n",
       "      <td>0</td>\n",
       "    </tr>\n",
       "    <tr>\n",
       "      <th>4</th>\n",
       "      <td>295</td>\n",
       "      <td>69</td>\n",
       "      <td>node1</td>\n",
       "      <td>Tue Nov 29 08:44:57 2022\\n</td>\n",
       "      <td>21.400000</td>\n",
       "      <td>0</td>\n",
       "    </tr>\n",
       "    <tr>\n",
       "      <th>...</th>\n",
       "      <td>...</td>\n",
       "      <td>...</td>\n",
       "      <td>...</td>\n",
       "      <td>...</td>\n",
       "      <td>...</td>\n",
       "      <td>...</td>\n",
       "    </tr>\n",
       "    <tr>\n",
       "      <th>198</th>\n",
       "      <td>344</td>\n",
       "      <td>70</td>\n",
       "      <td>node1</td>\n",
       "      <td>Tue Nov 29 05:54:44 2022\\n</td>\n",
       "      <td>22.700001</td>\n",
       "      <td>0</td>\n",
       "    </tr>\n",
       "    <tr>\n",
       "      <th>199</th>\n",
       "      <td>343</td>\n",
       "      <td>66</td>\n",
       "      <td>node1</td>\n",
       "      <td>Tue Nov 29 04:14:35 2022\\n</td>\n",
       "      <td>23.400000</td>\n",
       "      <td>1</td>\n",
       "    </tr>\n",
       "    <tr>\n",
       "      <th>200</th>\n",
       "      <td>289</td>\n",
       "      <td>67</td>\n",
       "      <td>node1</td>\n",
       "      <td>Tue Nov 29 19:51:20 2022\\n</td>\n",
       "      <td>21.799999</td>\n",
       "      <td>0</td>\n",
       "    </tr>\n",
       "    <tr>\n",
       "      <th>201</th>\n",
       "      <td>294</td>\n",
       "      <td>66</td>\n",
       "      <td>node1</td>\n",
       "      <td>Tue Nov 29 20:56:24 2022\\n</td>\n",
       "      <td>21.000000</td>\n",
       "      <td>0</td>\n",
       "    </tr>\n",
       "    <tr>\n",
       "      <th>202</th>\n",
       "      <td>290</td>\n",
       "      <td>69</td>\n",
       "      <td>node1</td>\n",
       "      <td>Tue Nov 29 09:15:02 2022\\n</td>\n",
       "      <td>21.000000</td>\n",
       "      <td>0</td>\n",
       "    </tr>\n",
       "  </tbody>\n",
       "</table>\n",
       "<p>203 rows × 6 columns</p>\n",
       "</div>"
      ],
      "text/plain": [
       "     moisture  humidity   node                        time  temperature  \\\n",
       "0         306        68  node1  Tue Nov 29 01:29:54 2022\\n    22.200001   \n",
       "1         646        71  node1  Mon Nov 28 21:37:19 2022\\n    22.200001   \n",
       "2         294        65  node1  Tue Nov 29 20:51:24 2022\\n    21.000000   \n",
       "3         339        64  node1  Tue Nov 29 02:54:30 2022\\n    23.000000   \n",
       "4         295        69  node1  Tue Nov 29 08:44:57 2022\\n    21.400000   \n",
       "..        ...       ...    ...                         ...          ...   \n",
       "198       344        70  node1  Tue Nov 29 05:54:44 2022\\n    22.700001   \n",
       "199       343        66  node1  Tue Nov 29 04:14:35 2022\\n    23.400000   \n",
       "200       289        67  node1  Tue Nov 29 19:51:20 2022\\n    21.799999   \n",
       "201       294        66  node1  Tue Nov 29 20:56:24 2022\\n    21.000000   \n",
       "202       290        69  node1  Tue Nov 29 09:15:02 2022\\n    21.000000   \n",
       "\n",
       "     health  \n",
       "0         0  \n",
       "1         0  \n",
       "2         0  \n",
       "3         0  \n",
       "4         0  \n",
       "..      ...  \n",
       "198       0  \n",
       "199       1  \n",
       "200       0  \n",
       "201       0  \n",
       "202       0  \n",
       "\n",
       "[203 rows x 6 columns]"
      ]
     },
     "execution_count": 31,
     "metadata": {},
     "output_type": "execute_result"
    }
   ],
   "source": [
    "data_classify[\"health\"] = np.where((data_classify[\"temperature\"]>23.0) & (data_classify[\"moisture\"]>300.0) & (data_classify[\"humidity\"]>59), 1, 0).astype(int)\n",
    "data_classify"
   ]
  },
  {
   "cell_type": "code",
   "execution_count": 32,
   "id": "13d67972",
   "metadata": {},
   "outputs": [],
   "source": [
    "X_classify = data_classify[['temperature', 'moisture','humidity']]\n",
    "y_classify = data_classify[['health']]"
   ]
  },
  {
   "cell_type": "code",
   "execution_count": 33,
   "id": "da650040",
   "metadata": {},
   "outputs": [],
   "source": [
    "X_train, X_test, y_train, y_test = train_test_split(X_classify, y_classify, test_size=0.3)"
   ]
  },
  {
   "cell_type": "code",
   "execution_count": 34,
   "id": "98b39810",
   "metadata": {},
   "outputs": [
    {
     "name": "stdout",
     "output_type": "stream",
     "text": [
      "(142, 3)\n",
      "(142, 1)\n",
      "(61, 3)\n",
      "(61, 1)\n"
     ]
    }
   ],
   "source": [
    "print(X_train.shape)\n",
    "print(y_train.shape)\n",
    "print(X_test.shape)\n",
    "print(y_test.shape)"
   ]
  },
  {
   "cell_type": "code",
   "execution_count": 35,
   "id": "4165c0ec",
   "metadata": {},
   "outputs": [],
   "source": []
  },
  {
   "cell_type": "code",
   "execution_count": 36,
   "id": "ee97fd58",
   "metadata": {},
   "outputs": [],
   "source": [
    "names = [\"Nearest Neighbors\", \"Decision Tree\", \"Random Forest\", \"XGBoost\",\"Linear Regression\"]\n",
    "classifiers = [\n",
    "    KNeighborsClassifier(2),\n",
    "    DecisionTreeClassifier(max_depth=5),\n",
    "    RandomForestClassifier(max_depth=5, n_estimators=10, max_features=1),\n",
    "    #MLPClassifier(alpha=1, max_iter=1000),\n",
    "    xg.XGBRegressor(objective ='reg:linear', silent = True, n_estimators = 10, seed = 123),\n",
    "    LinearRegression()]\n",
    "\n",
    "class_output = pd.DataFrame(columns=['classifier','accuracy', 'Training time'])"
   ]
  },
  {
   "cell_type": "code",
   "execution_count": 37,
   "id": "2eee42ff",
   "metadata": {},
   "outputs": [
    {
     "name": "stderr",
     "output_type": "stream",
     "text": [
      "/home/ec2-user/anaconda3/envs/python3/lib/python3.8/site-packages/sklearn/neighbors/_classification.py:198: DataConversionWarning: A column-vector y was passed when a 1d array was expected. Please change the shape of y to (n_samples,), for example using ravel().\n",
      "  return self._fit(X, y)\n",
      "/tmp/ipykernel_13265/2393291014.py:7: DataConversionWarning: A column-vector y was passed when a 1d array was expected. Please change the shape of y to (n_samples,), for example using ravel().\n",
      "  clf.fit(X_train, y_train)\n"
     ]
    },
    {
     "name": "stdout",
     "output_type": "stream",
     "text": [
      "Classifier = Nearest Neighbors, Score (test, accuracy) = 93.44, Training time = 0.02 seconds\n",
      "Classifier = Decision Tree, Score (test, accuracy) = 98.36, Training time = 0.01 seconds\n",
      "Classifier = Random Forest, Score (test, accuracy) = 95.08, Training time = 0.03 seconds\n",
      "[21:17:22] WARNING: ../src/objective/regression_obj.cu:213: reg:linear is now deprecated in favor of reg:squarederror.\n",
      "[21:17:22] WARNING: ../src/learner.cc:767: \n",
      "Parameters: { \"silent\" } are not used.\n",
      "\n",
      "Classifier = XGBoost, Score (test, accuracy) = 84.19, Training time = 0.21 seconds\n",
      "Classifier = Linear Regression, Score (test, accuracy) = 7.97, Training time = 0.01 seconds\n",
      "--------------------------------------------------------------------------------\n",
      "Best --> Classifier = Decision Tree, Score (test, accuracy) = 98.36\n"
     ]
    }
   ],
   "source": [
    "max_score = 0.0\n",
    "max_class = ''\n",
    "    \n",
    "    # Iterate over classifiers\n",
    "for name, clf in zip(names, classifiers):\n",
    "        start_time = time()\n",
    "        clf.fit(X_train, y_train)\n",
    "        score = 100.0 * clf.score(X_test, y_test)\n",
    "        print('Classifier = %s, Score (test, accuracy) = %.2f,' %(name, score), 'Training time = %.2f seconds' % (time() - start_time))\n",
    "        y_preds = clf.predict(X_test)\n",
    "        f1 = np.round(metrics.f1_score(y_test, y_preds.round(), average='weighted'), 2)\n",
    "        class_output = class_output.append({'classifier': name, 'F1 score':f1, 'accuracy':score, 'Training time':(time() - start_time)}, ignore_index=True)\n",
    "\n",
    "       \n",
    "        if score > max_score:\n",
    "            clf_best = clf\n",
    "            max_score = score\n",
    "            max_class = name\n",
    "\n",
    "print(80*'-' )\n",
    "print('Best --> Classifier = %s, Score (test, accuracy) = %.2f' %(max_class, max_score))"
   ]
  },
  {
   "cell_type": "code",
   "execution_count": 38,
   "id": "b05e2924",
   "metadata": {},
   "outputs": [
    {
     "data": {
      "text/html": [
       "<div>\n",
       "<style scoped>\n",
       "    .dataframe tbody tr th:only-of-type {\n",
       "        vertical-align: middle;\n",
       "    }\n",
       "\n",
       "    .dataframe tbody tr th {\n",
       "        vertical-align: top;\n",
       "    }\n",
       "\n",
       "    .dataframe thead th {\n",
       "        text-align: right;\n",
       "    }\n",
       "</style>\n",
       "<table border=\"1\" class=\"dataframe\">\n",
       "  <thead>\n",
       "    <tr style=\"text-align: right;\">\n",
       "      <th></th>\n",
       "      <th>classifier</th>\n",
       "      <th>accuracy</th>\n",
       "      <th>Training time</th>\n",
       "      <th>F1 score</th>\n",
       "    </tr>\n",
       "  </thead>\n",
       "  <tbody>\n",
       "    <tr>\n",
       "      <th>0</th>\n",
       "      <td>Nearest Neighbors</td>\n",
       "      <td>93.442623</td>\n",
       "      <td>0.038258</td>\n",
       "      <td>0.93</td>\n",
       "    </tr>\n",
       "    <tr>\n",
       "      <th>1</th>\n",
       "      <td>Decision Tree</td>\n",
       "      <td>98.360656</td>\n",
       "      <td>0.017653</td>\n",
       "      <td>0.98</td>\n",
       "    </tr>\n",
       "    <tr>\n",
       "      <th>2</th>\n",
       "      <td>Random Forest</td>\n",
       "      <td>95.081967</td>\n",
       "      <td>0.037309</td>\n",
       "      <td>0.94</td>\n",
       "    </tr>\n",
       "    <tr>\n",
       "      <th>3</th>\n",
       "      <td>XGBoost</td>\n",
       "      <td>84.186239</td>\n",
       "      <td>0.216100</td>\n",
       "      <td>0.98</td>\n",
       "    </tr>\n",
       "    <tr>\n",
       "      <th>4</th>\n",
       "      <td>Linear Regression</td>\n",
       "      <td>7.971280</td>\n",
       "      <td>0.008587</td>\n",
       "      <td>0.81</td>\n",
       "    </tr>\n",
       "  </tbody>\n",
       "</table>\n",
       "</div>"
      ],
      "text/plain": [
       "          classifier   accuracy  Training time  F1 score\n",
       "0  Nearest Neighbors  93.442623       0.038258      0.93\n",
       "1      Decision Tree  98.360656       0.017653      0.98\n",
       "2      Random Forest  95.081967       0.037309      0.94\n",
       "3            XGBoost  84.186239       0.216100      0.98\n",
       "4  Linear Regression   7.971280       0.008587      0.81"
      ]
     },
     "metadata": {},
     "output_type": "display_data"
    }
   ],
   "source": [
    "display(class_output)"
   ]
  }
 ],
 "metadata": {
  "kernelspec": {
   "display_name": "conda_python3",
   "language": "python",
   "name": "conda_python3"
  },
  "language_info": {
   "codemirror_mode": {
    "name": "ipython",
    "version": 3
   },
   "file_extension": ".py",
   "mimetype": "text/x-python",
   "name": "python",
   "nbconvert_exporter": "python",
   "pygments_lexer": "ipython3",
   "version": "3.8.12"
  }
 },
 "nbformat": 4,
 "nbformat_minor": 5
}
